{
  "nbformat": 4,
  "nbformat_minor": 0,
  "metadata": {
    "colab": {
      "provenance": [],
      "toc_visible": true,
      "authorship_tag": "ABX9TyPGYaYnQEX/H+bE9fxz34bN",
      "include_colab_link": true
    },
    "kernelspec": {
      "name": "python3",
      "display_name": "Python 3"
    },
    "language_info": {
      "name": "python"
    }
  },
  "cells": [
    {
      "cell_type": "markdown",
      "metadata": {
        "id": "view-in-github",
        "colab_type": "text"
      },
      "source": [
        "<a href=\"https://colab.research.google.com/github/Danila-Kovalenko/My_Machine_Learning/blob/main/Wir_suchen_%C3%96l_.ipynb\" target=\"_parent\"><img src=\"https://colab.research.google.com/assets/colab-badge.svg\" alt=\"Open In Colab\"/></a>"
      ]
    },
    {
      "cell_type": "markdown",
      "source": [
        "# Wir suchen Öl"
      ],
      "metadata": {
        "id": "me3fylFqvoKY"
      }
    },
    {
      "cell_type": "markdown",
      "source": [
        "Die Ölgesellschaft muss entscheiden, wo sie eine neue Bohrung bohren soll.\n",
        "\n",
        "Wir haben Ölproben in drei Regionen zur Verfügung gestellt. In jeder Region gibt es 10.000 Vorkommen, in denen die Qualität des Öls und das Volumen seiner Reserven gemessen wurden. Es ist notwendig, ein maschinelles Lernmodell zu erstellen, das Ihnen hilft, die Region zu bestimmen, in der der Bergbau den größten Gewinn erzielen wird. Mögliche Gewinne und Risiken müssen mit Bootstrap-Technik analysiert werden."
      ],
      "metadata": {
        "id": "WOpxgt0BzTq6"
      }
    },
    {
      "cell_type": "markdown",
      "source": [
        "Schritt 1: Importieren wir dir nötige Bibliotheken und Daten"
      ],
      "metadata": {
        "id": "VZ-xU453sxKf"
      }
    },
    {
      "cell_type": "code",
      "source": [
        "# Wir importieren die notwendigen Bibliotheken\n",
        "import pandas as pd\n",
        "import numpy as np\n",
        "from sklearn.linear_model import LinearRegression\n",
        "from sklearn.model_selection import train_test_split\n",
        "from sklearn.metrics import mean_squared_error\n",
        "from scipy import stats as st"
      ],
      "metadata": {
        "id": "gcTucwRmvp7k"
      },
      "execution_count": null,
      "outputs": []
    },
    {
      "cell_type": "code",
      "source": [
        "# Wir laden Tabellen mit Daten\n",
        "geo_data_0 = pd.read_csv('/content/geo_data_0.csv')\n",
        "geo_data_1 = pd.read_csv('/content/geo_data_1.csv')\n",
        "geo_data_2 = pd.read_csv('/content/geo_data_2.csv')"
      ],
      "metadata": {
        "id": "N538Keo40sK7"
      },
      "execution_count": null,
      "outputs": []
    },
    {
      "cell_type": "code",
      "source": [
        "# Wir werden die unnötige Spalte entfernen.\n",
        "geo_data_0 = geo_data_0.drop(['id'] , axis=1)\n",
        "geo_data_1 = geo_data_1.drop(['id'] , axis=1)\n",
        "geo_data_2 = geo_data_2.drop(['id'] , axis=1)"
      ],
      "metadata": {
        "id": "vzFaVAjJ2H8v"
      },
      "execution_count": null,
      "outputs": []
    },
    {
      "cell_type": "markdown",
      "source": [
        "## Region 0"
      ],
      "metadata": {
        "id": "fKFnNZJi7mvF"
      }
    },
    {
      "cell_type": "code",
      "source": [
        "# Wir werden die Zielzeichen und Bedingungen hervorheben\n",
        "target = geo_data_0['product']\n",
        "features = geo_data_0.drop(['product'] , axis=1)\n",
        "\n",
        "# Wir werden die Daten in Stichproben zerlegen.\n",
        "features_train, features_valid, target_train_0, target_valid_0 = train_test_split(\n",
        "    features, target, test_size=0.25, random_state=12345)\n",
        "\n",
        "# Wir prüfen, ob die Daten korrekt verteilt wurden.\n",
        "print('{:.0%}'.format(target_train_0.shape[0]/target.shape[0]))\n",
        "print('{:.0%}'.format(target_valid_0.shape[0]/target.shape[0]))"
      ],
      "metadata": {
        "colab": {
          "base_uri": "https://localhost:8080/"
        },
        "id": "2PZQHU6l2WFu",
        "outputId": "07fd0861-e6c0-4fe1-8364-37f8fe373a45"
      },
      "execution_count": null,
      "outputs": [
        {
          "output_type": "stream",
          "name": "stdout",
          "text": [
            "75%\n",
            "25%\n"
          ]
        }
      ]
    },
    {
      "cell_type": "code",
      "source": [
        "# Wir trainieren das Modell, machen eine Vorhersage, berechnen den rmse, den Durchschnitt der vorhergesagten Daten.\n",
        "model = LinearRegression()\n",
        "model.fit(features_train, target_train_0)\n",
        "predicted_valid_0 = model.predict(features_valid)\n",
        "mean_predict_0 = predicted_valid_0.mean()\n",
        "rmse = (mean_squared_error(target_valid_0, predicted_valid_0)) ** 0.5\n",
        "\n",
        "print('RMSE des vorhergesagten Rohstoffvolumens:', rmse)\n",
        "print('Durchschnitt des vorhergesagten Rohstoffvolumens:', mean_predict_0)"
      ],
      "metadata": {
        "colab": {
          "base_uri": "https://localhost:8080/"
        },
        "id": "95HHhfMo2fg0",
        "outputId": "b6420968-ec7b-4dde-8edc-cd6e3e00316c"
      },
      "execution_count": null,
      "outputs": [
        {
          "output_type": "stream",
          "name": "stdout",
          "text": [
            "RMSE des vorhergesagten Rohstoffvolumens: 37.5794217150813\n",
            "Durchschnitt des vorhergesagten Rohstoffvolumens: 92.59256778438035\n"
          ]
        }
      ]
    },
    {
      "cell_type": "markdown",
      "source": [
        "## Region 1"
      ],
      "metadata": {
        "id": "m1QvDrd88RIU"
      }
    },
    {
      "cell_type": "code",
      "source": [
        "# Wir werden die Zielzeichen und Bedingungen hervorheben\n",
        "target = geo_data_1['product']\n",
        "features = geo_data_1.drop(['product'] , axis=1)\n",
        "\n",
        "# Wir werden die Daten in Stichproben zerlegen.\n",
        "features_train, features_valid, target_train_1, target_valid_1 = train_test_split(\n",
        "    features, target, test_size=0.25, random_state=12345)\n",
        "\n",
        "# Wir prüfen, ob die Daten korrekt verteilt wurden.\n",
        "print('{:.0%}'.format(target_train_1.shape[0]/target.shape[0]))\n",
        "print('{:.0%}'.format(target_valid_1.shape[0]/target.shape[0]))"
      ],
      "metadata": {
        "colab": {
          "base_uri": "https://localhost:8080/"
        },
        "id": "BHbRcPRL8Eu_",
        "outputId": "3ac09ba5-fe02-41f5-bb8f-312cfe9185e8"
      },
      "execution_count": null,
      "outputs": [
        {
          "output_type": "stream",
          "name": "stdout",
          "text": [
            "75%\n",
            "25%\n"
          ]
        }
      ]
    },
    {
      "cell_type": "code",
      "source": [
        "# Wir trainieren das Modell, machen eine Vorhersage, berechnen den rmse, den Durchschnitt der vorhergesagten Daten.\n",
        "model = LinearRegression()\n",
        "model.fit(features_train, target_train_1)\n",
        "predicted_valid_1 = model.predict(features_valid)\n",
        "mean_predict_1 = predicted_valid_1.mean()\n",
        "rmse = (mean_squared_error(target_valid_1, predicted_valid_1)) ** 0.5\n",
        "\n",
        "print('RMSE des vorhergesagten Rohstoffvolumens:', rmse)\n",
        "print('Durchschnitt des vorhergesagten Rohstoffvolumens:', mean_predict_1)"
      ],
      "metadata": {
        "colab": {
          "base_uri": "https://localhost:8080/"
        },
        "id": "IuHuDzfX8fuS",
        "outputId": "582fe637-85fc-47ec-bbbf-166e45ea78bb"
      },
      "execution_count": null,
      "outputs": [
        {
          "output_type": "stream",
          "name": "stdout",
          "text": [
            "RMSE des vorhergesagten Rohstoffvolumens: 0.893099286775617\n",
            "Durchschnitt des vorhergesagten Rohstoffvolumens: 68.728546895446\n"
          ]
        }
      ]
    },
    {
      "cell_type": "markdown",
      "source": [
        "## Region 2"
      ],
      "metadata": {
        "id": "kD7a6HUG8t15"
      }
    },
    {
      "cell_type": "code",
      "source": [
        "# Wir werden die Zielzeichen und Bedingungen hervorheben\n",
        "target = geo_data_2['product']\n",
        "features = geo_data_2.drop(['product'] , axis=1)\n",
        "\n",
        "# Wir werden die Daten in Stichproben zerlegen.\n",
        "features_train, features_valid, target_train_2, target_valid_2 = train_test_split(\n",
        "    features, target, test_size=0.25, random_state=12345)\n",
        "\n",
        "# Wir prüfen, ob die Daten korrekt verteilt wurden.\n",
        "print('{:.0%}'.format(target_train_2.shape[0]/target.shape[0]))\n",
        "print('{:.0%}'.format(target_valid_2.shape[0]/target.shape[0]))"
      ],
      "metadata": {
        "colab": {
          "base_uri": "https://localhost:8080/"
        },
        "id": "GSKOQB318o2R",
        "outputId": "dbfe9341-009e-4cf9-bb9d-e2a5e27eba8f"
      },
      "execution_count": null,
      "outputs": [
        {
          "output_type": "stream",
          "name": "stdout",
          "text": [
            "75%\n",
            "25%\n"
          ]
        }
      ]
    },
    {
      "cell_type": "code",
      "source": [
        "# Wir trainieren das Modell, machen eine Vorhersage, berechnen den rmse, den Durchschnitt der vorhergesagten Daten.\n",
        "model = LinearRegression()\n",
        "model.fit(features_train, target_train_2)\n",
        "predicted_valid_2 = model.predict(features_valid)\n",
        "mean_predict_2 = predicted_valid_2.mean()\n",
        "rmse = (mean_squared_error(target_valid_2, predicted_valid_2)) ** 0.5\n",
        "\n",
        "print('RMSE des vorhergesagten Rohstoffvolumens:', rmse)\n",
        "print('Durchschnitt des vorhergesagten Rohstoffvolumens:', mean_predict_2)"
      ],
      "metadata": {
        "colab": {
          "base_uri": "https://localhost:8080/"
        },
        "id": "fMgqQ8RI84Rw",
        "outputId": "62f3797d-ec7a-404b-d79f-af76bc7bf75e"
      },
      "execution_count": null,
      "outputs": [
        {
          "output_type": "stream",
          "name": "stdout",
          "text": [
            "RMSE des vorhergesagten Rohstoffvolumens: 40.02970873393434\n",
            "Durchschnitt des vorhergesagten Rohstoffvolumens: 94.96504596800489\n"
          ]
        }
      ]
    },
    {
      "cell_type": "markdown",
      "source": [
        "# Vorbereitung auf die Gewinnberechnung"
      ],
      "metadata": {
        "id": "7aF-ZjtT-xg1"
      }
    },
    {
      "cell_type": "code",
      "source": [
        "# Wir berechnen eine ausreichende Menge an Rohstoffen, um eine neue Bohrung zu entwickeln.\n",
        "one_point_cost = 10000000000 / 200\n",
        "value_min = one_point_cost / 450000\n",
        "print('Ausreichende Rohstoffmenge für die Break-Even-Entwicklung eines neuen Bohrlochs: {:.1f} тыс. барр.'.format(value_min))"
      ],
      "metadata": {
        "colab": {
          "base_uri": "https://localhost:8080/"
        },
        "id": "dIBV0i-K9HvP",
        "outputId": "ac1045cd-e07d-4508-df41-7f494ac0085e"
      },
      "execution_count": null,
      "outputs": [
        {
          "output_type": "stream",
          "name": "stdout",
          "text": [
            "Ausreichende Rohstoffmenge für die Break-Even-Entwicklung eines neuen Bohrlochs: 111.1 тыс. барр.\n"
          ]
        }
      ]
    },
    {
      "cell_type": "code",
      "source": [
        "# Wir vergleichen die resultierenden ausreichenden Rohstoffmengen für die Break-Even-Entwicklung\n",
        "# mit dem durchschnittlichen Bestand in jeder Region.\n",
        "print('{:.1%}'.format(mean_predict_0 / value_min))\n",
        "print('{:.1%}'.format(mean_predict_1 / value_min))\n",
        "print('{:.1%}'.format(mean_predict_2 / value_min))"
      ],
      "metadata": {
        "colab": {
          "base_uri": "https://localhost:8080/"
        },
        "id": "PTeOW1NZ_hKJ",
        "outputId": "dd20f400-8e8f-4b51-8ca6-3e60f6e9d89a"
      },
      "execution_count": null,
      "outputs": [
        {
          "output_type": "stream",
          "name": "stdout",
          "text": [
            "83.3%\n",
            "61.9%\n",
            "85.5%\n"
          ]
        }
      ]
    },
    {
      "cell_type": "markdown",
      "source": [
        "# Gewinn- und Risikoberechnung"
      ],
      "metadata": {
        "id": "Je1v3CDUCWHu"
      }
    },
    {
      "cell_type": "code",
      "source": [
        "# Wir schreiben eine Funktion, um den Gewinn zu berechnen\n",
        "def revenue(target, probabilities, count):\n",
        "    probs_sorted = probabilities.sort_values(ascending=False)\n",
        "    selected = target[probs_sorted.index][:count]\n",
        "    return 450000 * selected.sum() - 10000000000"
      ],
      "metadata": {
        "id": "DZDE3ASPDbg5"
      },
      "execution_count": null,
      "outputs": []
    },
    {
      "cell_type": "code",
      "source": [
        "# Wir setzen die Indizes in den Zieltabellen zurück und geben das Datenformat der Vorhersageliste in Series an.\n",
        "target_valid_0 = target_valid_0.reset_index(drop=True)\n",
        "predicted_valid_0 = pd.Series(predicted_valid_0)\n",
        "\n",
        "target_valid_1 = target_valid_1.reset_index(drop=True)\n",
        "predicted_valid_1 = pd.Series(predicted_valid_1)\n",
        "\n",
        "target_valid_2 = target_valid_2.reset_index(drop=True)\n",
        "predicted_valid_2 = pd.Series(predicted_valid_2)"
      ],
      "metadata": {
        "id": "ZLyBH-a0CHMt"
      },
      "execution_count": null,
      "outputs": []
    },
    {
      "cell_type": "code",
      "source": [
        "state = np.random.RandomState(42)"
      ],
      "metadata": {
        "id": "FDPg6P_kDOup"
      },
      "execution_count": null,
      "outputs": []
    },
    {
      "cell_type": "markdown",
      "source": [
        "## Region 0"
      ],
      "metadata": {
        "id": "fyM7Bn0WE9MN"
      }
    },
    {
      "cell_type": "code",
      "source": [
        "# Wir berechnen mit Bootstrap den durchschnittlichen Gewinn, die Wahrscheinlichkeit von Verlusten und das Konfidenzintervall von 95%.\n",
        "values = []\n",
        "for i in range(1000):\n",
        "    target_subsample = target_valid_0.sample(500, replace=True, random_state=state)\n",
        "    probs_subsample = predicted_valid_0[target_subsample.index]\n",
        "    values.append(revenue(target_subsample, probs_subsample, 200))\n",
        "\n",
        "values = pd.Series(values)\n",
        "mean = values.mean()\n",
        "confidence_interval = st.t.interval(0.95, len(values)-1, values.mean(), values.sem())\n",
        "\n",
        "print(\"Durchschnittlicher Gewinn: {:.1f} млн. руб.\".format(mean / 1000000))\n",
        "print(\"Wahrscheinlichkeit von Verlusten: {:.1%}\".format(len(values.loc[values < 0]) / len(values)))\n",
        "print(\"95% Konfidenzintervall:\", confidence_interval)"
      ],
      "metadata": {
        "colab": {
          "base_uri": "https://localhost:8080/"
        },
        "id": "CBLuSXRjEqIN",
        "outputId": "4f121ea2-0366-490a-ca5c-9725a0219a48"
      },
      "execution_count": null,
      "outputs": [
        {
          "output_type": "stream",
          "name": "stdout",
          "text": [
            "Durchschnittlicher Gewinn: 408.8 млн. руб.\n",
            "Wahrscheinlichkeit von Verlusten: 6.6%\n",
            "95% Konfidenzintervall: (392159649.2899968, 425520962.867716)\n"
          ]
        }
      ]
    },
    {
      "cell_type": "markdown",
      "source": [
        "## Region 1"
      ],
      "metadata": {
        "id": "8b9T4I5iGw2p"
      }
    },
    {
      "cell_type": "code",
      "source": [
        "values = []\n",
        "for i in range(1000):\n",
        "    target_subsample = target_valid_1.sample(500, replace=True, random_state=state)\n",
        "    probs_subsample = predicted_valid_1[target_subsample.index]\n",
        "    values.append(revenue(target_subsample, probs_subsample, 200))\n",
        "\n",
        "values = pd.Series(values)\n",
        "mean = values.mean()\n",
        "confidence_interval = st.t.interval(0.95, len(values)-1, values.mean(), values.sem())\n",
        "\n",
        "print(\"Durchschnittlicher Gewinn: {:.1f} млн. руб.\".format(mean / 1000000))\n",
        "print(\"Wahrscheinlichkeit von Verlusten: {:.1%}\".format(len(values.loc[values < 0]) / len(values)))\n",
        "print(\"95% Konfidenzintervall:\", confidence_interval)"
      ],
      "metadata": {
        "colab": {
          "base_uri": "https://localhost:8080/"
        },
        "id": "3GbRLcVhGNH4",
        "outputId": "1056467d-9c58-4347-a2cf-df472c3b92f6"
      },
      "execution_count": null,
      "outputs": [
        {
          "output_type": "stream",
          "name": "stdout",
          "text": [
            "Durchschnittlicher Gewinn: 513.3 млн. руб.\n",
            "Wahrscheinlichkeit von Verlusten: 1.6%\n",
            "95% Konfidenzintervall: (499270889.5529853, 527247359.86852205)\n"
          ]
        }
      ]
    },
    {
      "cell_type": "markdown",
      "source": [
        "## Region 2"
      ],
      "metadata": {
        "id": "KLMheapEG91c"
      }
    },
    {
      "cell_type": "code",
      "source": [
        "values = []\n",
        "for i in range(1000):\n",
        "    target_subsample = target_valid_2.sample(500, replace=True, random_state=state)\n",
        "    probs_subsample = predicted_valid_2[target_subsample.index]\n",
        "    values.append(revenue(target_subsample, probs_subsample, 200))\n",
        "\n",
        "values = pd.Series(values)\n",
        "mean = values.mean()\n",
        "confidence_interval = st.t.interval(0.95, len(values)-1, values.mean(), values.sem())\n",
        "\n",
        "print(\"Durchschnittlicher Gewinn: {:.1f} млн. руб.\".format(mean / 1000000))\n",
        "print(\"Wahrscheinlichkeit von Verlusten: {:.1%}\".format(len(values.loc[values < 0]) / len(values)))\n",
        "print(\"95% Konfidenzintervall:\", confidence_interval)"
      ],
      "metadata": {
        "colab": {
          "base_uri": "https://localhost:8080/"
        },
        "id": "XOQPQPIKG52Q",
        "outputId": "d07a3567-ef87-412f-ad15-3138dbb463bd"
      },
      "execution_count": null,
      "outputs": [
        {
          "output_type": "stream",
          "name": "stdout",
          "text": [
            "Durchschnittlicher Gewinn: 439.4 млн. руб.\n",
            "Wahrscheinlichkeit von Verlusten: 5.3%\n",
            "95% Konfidenzintervall: (422258996.4553227, 456502767.2918152)\n"
          ]
        }
      ]
    }
  ]
}