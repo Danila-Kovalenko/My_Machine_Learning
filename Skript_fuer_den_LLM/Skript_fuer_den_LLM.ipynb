{
 "cells": [
  {
   "cell_type": "code",
   "execution_count": 1,
   "id": "d83d9268",
   "metadata": {
    "_cell_guid": "b1076dfc-b9ad-4769-8c92-a6c4dae69d19",
    "_uuid": "8f2839f25d086af736a60e9eeb907d3b93b6e0e5",
    "execution": {
     "iopub.execute_input": "2025-06-27T20:04:11.247302Z",
     "iopub.status.busy": "2025-06-27T20:04:11.246961Z",
     "iopub.status.idle": "2025-06-27T20:12:18.108734Z",
     "shell.execute_reply": "2025-06-27T20:12:18.107771Z"
    },
    "papermill": {
     "duration": 486.868797,
     "end_time": "2025-06-27T20:12:18.112467",
     "exception": false,
     "start_time": "2025-06-27T20:04:11.243670",
     "status": "completed"
    },
    "tags": []
   },
   "outputs": [
    {
     "name": "stdout",
     "output_type": "stream",
     "text": [
      "Validation multi_logloss: 1.0427783995732065\n",
      "✔️ submission.csv wurde erstellt. Zeilen: 3\n"
     ]
    }
   ],
   "source": [
    "# ----------------------------------------\n",
    "# Komplettes Notebook-Skript für den LLM-Wettbewerb\n",
    "# Mit korrektem Submission-Format (inkl. id-Spalte)\n",
    "# ----------------------------------------\n",
    "\n",
    "import pandas as pd\n",
    "import numpy as np\n",
    "from sklearn.feature_extraction.text import TfidfVectorizer\n",
    "from scipy.sparse import hstack\n",
    "from sklearn.model_selection import train_test_split\n",
    "from sklearn.ensemble import HistGradientBoostingClassifier\n",
    "from sklearn.metrics import log_loss\n",
    "import gc\n",
    "\n",
    "# 0) Pfad zu Deinen CSV-Dateien anpassen:\n",
    "BASE_DIR = '/kaggle/input/llm-classification-finetuning'  # ← Hier den Ordner einstellen, in dem train.csv, test.csv, sample_submission.csv liegen\n",
    "\n",
    "# 1) Daten laden\n",
    "train_df = pd.read_csv(f'{BASE_DIR}/train.csv')\n",
    "test_df  = pd.read_csv(f'{BASE_DIR}/test.csv')\n",
    "sub_df   = pd.read_csv(f'{BASE_DIR}/sample_submission.csv')\n",
    "\n",
    "# 2) Ziel kodieren: winner_model_a → 0, winner_model_b → 1, tie → 2\n",
    "def encode_label(row):\n",
    "    if row['winner_model_a'] == 1: return 0\n",
    "    if row['winner_model_b'] == 1: return 1\n",
    "    return 2\n",
    "\n",
    "train_df['label'] = train_df.apply(encode_label, axis=1)\n",
    "y = train_df['label'].values\n",
    "\n",
    "# 3) TF-IDF-Vektoren für Prompt und Antworten (max. 2000 Features, Unigram+Bigram)\n",
    "tf_prompt = TfidfVectorizer(max_features=2000, ngram_range=(1,2))\n",
    "tf_resp   = TfidfVectorizer(max_features=2000, ngram_range=(1,2))\n",
    "\n",
    "Xp_tr = tf_prompt.fit_transform(train_df['prompt'])\n",
    "Xp_te = tf_prompt.transform(test_df['prompt'])\n",
    "\n",
    "Xa_tr = tf_resp.fit_transform(train_df['response_a'])\n",
    "Xa_te = tf_resp.transform(test_df['response_a'])\n",
    "\n",
    "Xb_tr = tf_resp.transform(train_df['response_b'])\n",
    "Xb_te = tf_resp.transform(test_df['response_b'])\n",
    "\n",
    "# 4) Feature-Matrix: Prompt | RespA | RespB | (RespA − RespB)\n",
    "X_sparse      = hstack([Xp_tr, Xa_tr, Xb_tr, Xa_tr - Xb_tr]).tocsr()\n",
    "X_test_sparse = hstack([Xp_te, Xa_te, Xb_te, Xa_te - Xb_te]).tocsr()\n",
    "\n",
    "# 5) Für HistGradientBoosting dichten Datensatz benötigen\n",
    "X      = X_sparse.toarray()\n",
    "X_test = X_test_sparse.toarray()\n",
    "del X_sparse, X_test_sparse\n",
    "gc.collect()\n",
    "\n",
    "# 6) Split in Training/Validation (20 % für Validierung)\n",
    "X_tr, X_val, y_tr, y_val = train_test_split(\n",
    "    X, y, test_size=0.20, stratify=y, random_state=42\n",
    ")\n",
    "\n",
    "# 7) Modell: HistGradientBoostingClassifier mit Early Stopping\n",
    "model = HistGradientBoostingClassifier(\n",
    "    loss='log_loss',\n",
    "    learning_rate=0.1,\n",
    "    max_iter=500,\n",
    "    random_state=42,\n",
    "    validation_fraction=0.2,\n",
    "    n_iter_no_change=30\n",
    ")\n",
    "model.fit(X_tr, y_tr)\n",
    "\n",
    "# 8) Evaluation auf Validierungsset\n",
    "val_probs = model.predict_proba(X_val)\n",
    "print(\"Validation multi_logloss:\", log_loss(y_val, val_probs))\n",
    "\n",
    "# 9) Vorhersage auf Testdaten\n",
    "test_probs = model.predict_proba(X_test)\n",
    "\n",
    "# 10) Submission-Datei erstellen mit korrektem Format\n",
    "submission = pd.DataFrame({\n",
    "    'id': test_df['id'],\n",
    "    'winner_model_a':   test_probs[:, 0],\n",
    "    'winner_model_b':   test_probs[:, 1],\n",
    "    'winner_model_tie': test_probs[:, 2],\n",
    "})\n",
    "submission.to_csv('submission.csv', index=False)\n",
    "\n",
    "print(\"✔️ submission.csv wurde erstellt. Zeilen:\", len(submission))\n"
   ]
  }
 ],
 "metadata": {
  "kaggle": {
   "accelerator": "none",
   "dataSources": [
    {
     "databundleVersionId": 9809560,
     "sourceId": 86518,
     "sourceType": "competition"
    }
   ],
   "dockerImageVersionId": 31040,
   "isGpuEnabled": false,
   "isInternetEnabled": false,
   "language": "python",
   "sourceType": "notebook"
  },
  "kernelspec": {
   "display_name": "Python 3",
   "language": "python",
   "name": "python3"
  },
  "language_info": {
   "codemirror_mode": {
    "name": "ipython",
    "version": 3
   },
   "file_extension": ".py",
   "mimetype": "text/x-python",
   "name": "python",
   "nbconvert_exporter": "python",
   "pygments_lexer": "ipython3",
   "version": "3.11.11"
  },
  "papermill": {
   "default_parameters": {},
   "duration": 493.890739,
   "end_time": "2025-06-27T20:12:20.039269",
   "environment_variables": {},
   "exception": null,
   "input_path": "__notebook__.ipynb",
   "output_path": "__notebook__.ipynb",
   "parameters": {},
   "start_time": "2025-06-27T20:04:06.148530",
   "version": "2.6.0"
  }
 },
 "nbformat": 4,
 "nbformat_minor": 5
}
