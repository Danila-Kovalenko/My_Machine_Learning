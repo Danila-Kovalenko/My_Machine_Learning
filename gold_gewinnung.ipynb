{
  "cells": [
    {
      "cell_type": "markdown",
      "metadata": {
        "id": "view-in-github",
        "colab_type": "text"
      },
      "source": [
        "<a href=\"https://colab.research.google.com/github/Danila-Kovalenko/My_Machine_Learning/blob/main/gold_gewinnung.ipynb\" target=\"_parent\"><img src=\"https://colab.research.google.com/assets/colab-badge.svg\" alt=\"Open In Colab\"/></a>"
      ]
    },
    {
      "cell_type": "markdown",
      "id": "e85193e2",
      "metadata": {
        "id": "e85193e2"
      },
      "source": [
        "# Gewinnung von Gold aus Erz"
      ]
    },
    {
      "cell_type": "markdown",
      "id": "d8ea04ec",
      "metadata": {
        "id": "d8ea04ec"
      },
      "source": [
        "Es ist notwendig, einen Prototyp eines maschinellen Lernmodells vorzubereiten, das die Gewinnungsrate von Gold aus Golderz vorhersagen soll. Verwenden Sie Daten mit Bergbau- und Reinigungsparametern.\n",
        "\n",
        "Das Modell wird dazu beitragen, die Produktion zu optimieren, um kein Unternehmen mit unrentablen Eigenschaften zu gründen.\n"
      ]
    },
    {
      "cell_type": "markdown",
      "id": "c95666b8",
      "metadata": {
        "id": "c95666b8"
      },
      "source": [
        "## Vorbereitung"
      ]
    },
    {
      "cell_type": "code",
      "execution_count": null,
      "id": "5e44b549",
      "metadata": {
        "id": "5e44b549"
      },
      "outputs": [],
      "source": [
        "# Wir importieren die notwendigen Bibliotheken.\n",
        "import pandas as pd\n",
        "import numpy as np\n",
        "\n",
        "from sklearn.linear_model import LinearRegression\n",
        "from sklearn.ensemble import RandomForestRegressor\n",
        "from sklearn.tree import DecisionTreeRegressor\n",
        "\n",
        "from sklearn.model_selection import train_test_split\n",
        "from sklearn.metrics import mean_absolute_error\n",
        "\n",
        "from sklearn.metrics.scorer import make_scorer\n",
        "from sklearn.model_selection import GridSearchCV\n",
        "\n",
        "from scipy import stats as st"
      ]
    },
    {
      "cell_type": "code",
      "execution_count": null,
      "id": "283fe053",
      "metadata": {
        "id": "283fe053"
      },
      "outputs": [],
      "source": [
        "# Wir laden Tabellen mit Daten\n",
        "df_train = pd.read_csv('C:/Users/Konstantin/Documents/datasets/Gold Recovery/gold_recovery_train_new.csv')\n",
        "df_test = pd.read_csv('C:/Users/Konstantin/Documents/datasets/Gold Recovery/gold_recovery_test_new.csv')\n",
        "df_full = pd.read_csv('C:/Users/Konstantin/Documents/datasets/Gold Recovery/gold_recovery_full_new.csv')"
      ]
    },
    {
      "cell_type": "code",
      "execution_count": null,
      "id": "43a2eb50",
      "metadata": {
        "id": "43a2eb50"
      },
      "outputs": [],
      "source": [
        "# Aufgrund der Tatsache, dass die Daten in benachbarten Zeilen einen ähnlichen Wert haben,\n",
        "# füllen wir die Nulldaten mit Werten aus benachbarten Zeilen aus.\n",
        "for file in datas:\n",
        "    file.ffill(axis = 0, inplace = True)\n",
        "    display(file.info())"
      ]
    },
    {
      "cell_type": "code",
      "execution_count": null,
      "id": "581a7804",
      "metadata": {
        "id": "581a7804"
      },
      "outputs": [],
      "source": [
        "# Wir berechnen die Goldanreicherungseffizienz auf dem Trainingsset.\n",
        "C = df_train['rougher.output.concentrate_au']\n",
        "F = df_train['rougher.input.feed_au']\n",
        "T = df_train['rougher.output.tail_au']\n",
        "\n",
        "rougher_output_recovery = pd.Series(C*(F-T)*100/F/(C-T))\n",
        "\n",
        "display(df_train['rougher.output.recovery'].head())\n",
        "display(rougher_output_recovery.head())"
      ]
    },
    {
      "cell_type": "code",
      "execution_count": null,
      "id": "c33a4dcf",
      "metadata": {
        "id": "c33a4dcf"
      },
      "outputs": [],
      "source": [
        "# Wir berechnen die durchschnittliche Effizienz der Goldanreicherung.\n",
        "print('Durchschnittliche Effizienz der Goldanreicherung angegeben', df_train['rougher.output.recovery'].mean())\n",
        "print('Durchschnittliche Effizienz der Goldanreicherung berechnet', rougher_output_recovery.mean())"
      ]
    },
    {
      "cell_type": "code",
      "execution_count": null,
      "id": "4bccd57d",
      "metadata": {
        "id": "4bccd57d"
      },
      "outputs": [],
      "source": [
        "# Wir berechnen die durchschnittliche absolute Abweichung zwischen der angegebenen und\n",
        "# der berechneten durchschnittlichen Goldeffizienz.\n",
        "print('Durchschnittliche absolute Abweichung', mean_absolute_error(df_train['rougher.output.recovery'], rougher_output_recovery))"
      ]
    },
    {
      "cell_type": "markdown",
      "id": "c45c5f2f",
      "metadata": {
        "id": "c45c5f2f"
      },
      "source": [
        "**Schlussfolgerungen**\n",
        "\n",
        "Wir haben eine Datenvorverarbeitung durchgeführt, indem wir fehlende Werte mit den Daten benachbarter Zeilen ergänzt haben. Anschließend haben wir die Effizienz der Goldanreicherung berechnet. Die Durchschnittswerte zeigten keine Abweichung. Die mittlere absolute Abweichung lag nahe Null, was höchstwahrscheinlich darauf zurückzuführen ist, dass die fehlenden Werte mit möglicherweise ungenauen Daten ersetzt wurden. Dies deutet darauf hin, dass die Berechnung der mittleren absoluten Abweichung in der angegebenen Tabelle korrekt durchgeführt wurde."
      ]
    },
    {
      "cell_type": "markdown",
      "id": "1936d373",
      "metadata": {
        "id": "1936d373"
      },
      "source": [
        "## Explorative Datenanalyse"
      ]
    },
    {
      "cell_type": "code",
      "execution_count": null,
      "id": "7652348e",
      "metadata": {
        "id": "7652348e"
      },
      "outputs": [],
      "source": [
        "# Wir werden sehen, wie sich die Konzentration von Metallen (Au, Ag, Pb) in verschiedenen Stadien der Reinigung ändert.\n",
        "print('Au')\n",
        "print(df_train['rougher.input.feed_au'].mean())\n",
        "print(df_train['rougher.output.concentrate_au'].mean())\n",
        "print(df_train['primary_cleaner.output.concentrate_au'].mean())\n",
        "print(df_train['final.output.concentrate_au'].mean())\n",
        "print()\n",
        "\n",
        "print('Ag')\n",
        "print(df_train['rougher.input.feed_ag'].mean())\n",
        "print(df_train['rougher.output.concentrate_ag'].mean())\n",
        "print(df_train['primary_cleaner.output.concentrate_ag'].mean())\n",
        "print(df_train['final.output.concentrate_ag'].mean())\n",
        "print()\n",
        "\n",
        "print('Pb')\n",
        "print(df_train['rougher.input.feed_pb'].mean())\n",
        "print(df_train['rougher.output.concentrate_pb'].mean())\n",
        "print(df_train['primary_cleaner.output.concentrate_pb'].mean())\n",
        "print(df_train['final.output.concentrate_pb'].mean())\n",
        "print()"
      ]
    },
    {
      "cell_type": "markdown",
      "id": "9a8945ec",
      "metadata": {
        "id": "9a8945ec"
      },
      "source": [
        "**Schlussfolgerungen**\n",
        "\n",
        "Nachdem wir die durchschnittliche Konzentration von Metallen in verschiedenen Reinigungsstufen berechnet haben, sehen wir, dass die Konzentration von Gold von Stufe zu Stufe erheblich zunimmt, die Konzentration von Silber zuerst leicht zunimmt, dann abnimmt, die Konzentration von Blei zunimmt, aber nicht signifikant."
      ]
    },
    {
      "cell_type": "code",
      "execution_count": null,
      "id": "6ba7819e",
      "metadata": {
        "id": "6ba7819e"
      },
      "outputs": [],
      "source": [
        "# Wir untersuchen die Gesamtkonzentration aller Substanzen in verschiedenen Stadien.\n",
        "print((df_train['rougher.input.feed_au']+df_train['rougher.input.feed_ag']+\n",
        "       df_train['rougher.input.feed_pb']+df_train['rougher.input.feed_sol']).mean())\n",
        "\n",
        "print((df_train['rougher.output.concentrate_au']+df_train['rougher.output.concentrate_ag']+\n",
        "       df_train['rougher.output.concentrate_pb']+df_train['rougher.output.concentrate_sol']).mean())\n",
        "\n",
        "print((df_train['primary_cleaner.output.concentrate_au']+df_train['primary_cleaner.output.concentrate_ag']+\n",
        "       df_train['primary_cleaner.output.concentrate_pb']+df_train['primary_cleaner.output.concentrate_sol']).mean())\n",
        "\n",
        "print((df_train['final.output.concentrate_au']+df_train['final.output.concentrate_ag']+\n",
        "       df_train['final.output.concentrate_pb']+df_train['final.output.concentrate_sol']).mean())"
      ]
    },
    {
      "cell_type": "markdown",
      "id": "925ec3d0",
      "metadata": {
        "id": "925ec3d0"
      },
      "source": [
        "**Schlussfolgerungen**\n",
        "\n",
        "Nach der Analyse der Gesamtkonzentration aller Substanzen in verschiedenen Stufen sehen wir, dass nach der ersten Reinigungsstufe die Gesamtkonzentration abnimmt, aber nach der letzten Reinigungsstufe wieder ansteigt."
      ]
    },
    {
      "cell_type": "code",
      "execution_count": null,
      "id": "f56b01cf",
      "metadata": {
        "id": "f56b01cf"
      },
      "outputs": [],
      "source": [
        "# Wir analysieren die Diagramme der Größenverteilung der Rohstoffkörnchen auf den Trainings- und Testmustern.\n",
        "df_train['rougher.input.feed_size'].hist(bins = 200, range=(20, 100))\n",
        "df_test['rougher.input.feed_size'].hist(bins = 200, range=(20, 100))"
      ]
    },
    {
      "cell_type": "code",
      "execution_count": null,
      "id": "11315456",
      "metadata": {
        "id": "11315456"
      },
      "outputs": [],
      "source": [
        "df_train['primary_cleaner.input.feed_size'].hist(bins = 100, range=(5, 9))\n",
        "df_test['primary_cleaner.input.feed_size'].hist(bins = 100, range=(5, 9))"
      ]
    },
    {
      "cell_type": "markdown",
      "id": "b61f9946",
      "metadata": {
        "id": "b61f9946"
      },
      "source": [
        "**Schlussfolgerungen**\n",
        "\n",
        "Wir haben die Verteilungsdiagramme der Rohstoffgranulatgrößen an den Trainings- und Testmustern analysiert. Wir können sehen, dass der Datensatz in beiden Fällen rechtsschief ist. Die Diagramme sind ähnlich, daher unterscheiden sich die Verteilungen nicht sehr voneinander, die Schätzung des Modells wird korrekt sein."
      ]
    },
    {
      "cell_type": "markdown",
      "id": "f84a6908",
      "metadata": {
        "id": "f84a6908"
      },
      "source": [
        "## Modelltraining und Testen"
      ]
    },
    {
      "cell_type": "code",
      "execution_count": null,
      "id": "f14a29ee",
      "metadata": {
        "id": "f14a29ee"
      },
      "outputs": [],
      "source": [
        "# Wir erstellen eine smape-Berechnungsfunktion.\n",
        "def smape(target, predict):\n",
        "    return (100/len(target)) * np.sum(2 * np.abs(target - predict) / (np.abs(target) + np.abs(predict)))\n",
        "\n",
        "# Wir werden unsere eigene Metrik erstellen.\n",
        "smape_scorer = make_scorer(smape, greater_is_better=True)"
      ]
    },
    {
      "cell_type": "code",
      "execution_count": null,
      "id": "0a17009b",
      "metadata": {
        "id": "0a17009b"
      },
      "outputs": [],
      "source": [
        "# Wir vervollständigen die Testtabelle mit den fehlenden Zielparametern rougher.output.recovery und final.output.recovery.\n",
        "df_test = df_test.merge(df_full[['date', 'rougher.output.recovery','final.output.recovery']], on='date')\n",
        "df_test.info()\n",
        "\n",
        "# Wir werden die Spalten, die sich im Test befinden, in der Trainingsstichprobe belassen.\n",
        "df_train = df_train[df_test.columns]\n",
        "df_train.info()"
      ]
    },
    {
      "cell_type": "code",
      "execution_count": null,
      "id": "b7bf8979",
      "metadata": {
        "id": "b7bf8979"
      },
      "outputs": [],
      "source": [
        "# Wir werden Samples für den Zielparameter rougher.output.recovery generieren.\n",
        "features_1 = df_train.loc[:, 'rougher.input.feed_ag': 'rougher.state.floatbank10_f_level']\n",
        "target_1 = df_train['rougher.output.recovery']"
      ]
    },
    {
      "cell_type": "code",
      "execution_count": null,
      "id": "c3511d38",
      "metadata": {
        "id": "c3511d38"
      },
      "outputs": [],
      "source": [
        "# Wir finden die besten Hyperparameter für das Modell DecisionTreeRegressor.\n",
        "model = DecisionTreeRegressor()\n",
        "parameters = {'max_depth':[9,10,11,12,13,14,15,25]}\n",
        "\n",
        "grid = GridSearchCV(model, parameters, cv = 5, scoring = smape_scorer)\n",
        "grid.fit(features_1, target_1)\n",
        "\n",
        "grid.best_params_"
      ]
    },
    {
      "cell_type": "code",
      "execution_count": null,
      "id": "fb988b30",
      "metadata": {
        "id": "fb988b30"
      },
      "outputs": [],
      "source": [
        "# Wir finden die besten Hyperparameter für das Modell RandomForestRegressor.\n",
        "model = RandomForestRegressor()\n",
        "\n",
        "parametrs = { 'n_estimators': range (30, 51, 10),\n",
        "              'max_depth': range (9,13, 2) }\n",
        "\n",
        "grid = GridSearchCV(model, parametrs, cv=5, scoring = smape_scorer)\n",
        "grid.fit(features_1, target_1)\n",
        "\n",
        "grid.best_params_"
      ]
    },
    {
      "cell_type": "code",
      "execution_count": null,
      "id": "643253d5",
      "metadata": {
        "id": "643253d5"
      },
      "outputs": [],
      "source": [
        "# Wir finden die besten Hyperparameter für das Modell LinearRegression.\n",
        "model = LinearRegression()\n",
        "parametrs = {'fit_intercept' : [True, False], 'copy_X': [True, False], 'n_jobs' :[None, -1]}\n",
        "\n",
        "grid = GridSearchCV(estimator = model, param_grid = parametrs, cv = 5, scoring = smape_scorer)\n",
        "grid.fit(features_1, target_1)\n",
        "\n",
        "grid.best_params_"
      ]
    },
    {
      "cell_type": "code",
      "execution_count": null,
      "id": "6763c73a",
      "metadata": {
        "id": "6763c73a"
      },
      "outputs": [],
      "source": [
        "# Wir werden Stichproben für den Zielparameter final.output.recovery generieren.\n",
        "features_2 = df_train.drop(['date', 'rougher.output.recovery', 'final.output.recovery'], axis=1)\n",
        "target_2 = df_train['final.output.recovery']"
      ]
    },
    {
      "cell_type": "code",
      "execution_count": null,
      "id": "af7e1ae4",
      "metadata": {
        "id": "af7e1ae4"
      },
      "outputs": [],
      "source": [
        "# Wir finden die besten Hyperparameter für das Modell DecisionTreeRegressor.\n",
        "model = DecisionTreeRegressor()\n",
        "parameters = {'max_depth':[160,161,162,163,164]}\n",
        "\n",
        "grid = GridSearchCV(model, parameters, cv = 5, scoring = smape_scorer)\n",
        "grid.fit(features_2, target_2)\n",
        "\n",
        "grid.best_params_"
      ]
    },
    {
      "cell_type": "code",
      "execution_count": null,
      "id": "069cfef1",
      "metadata": {
        "id": "069cfef1"
      },
      "outputs": [],
      "source": [
        "# Wir finden die besten Hyperparameter für das Modell RandomForestRegressor.\n",
        "model = RandomForestRegressor()\n",
        "\n",
        "parametrs = { 'n_estimators': range (10, 31, 10),\n",
        "              'max_depth': range (5,11, 2) }\n",
        "\n",
        "grid = GridSearchCV(model, parametrs, cv=5, scoring = smape_scorer)\n",
        "grid.fit(features_2, target_2)\n",
        "\n",
        "grid.best_params_"
      ]
    },
    {
      "cell_type": "code",
      "execution_count": null,
      "id": "876cb6ee",
      "metadata": {
        "id": "876cb6ee"
      },
      "outputs": [],
      "source": [
        "# Wir finden die besten Hyperparameter für das Modell LinearRegression.\n",
        "model = LinearRegression()\n",
        "parametrs = {'fit_intercept' : [True, False], 'copy_X': [True, False], 'n_jobs' :[None, -1]}\n",
        "\n",
        "grid = GridSearchCV(estimator = model, param_grid = parametrs, cv = 5, scoring = smape_scorer)\n",
        "grid.fit(features_2, target_2)\n",
        "\n",
        "grid.best_params_"
      ]
    },
    {
      "cell_type": "code",
      "execution_count": null,
      "id": "daa4360a",
      "metadata": {
        "id": "daa4360a"
      },
      "outputs": [],
      "source": [
        "# Wir werden die smape-Modelle mit den besten Hyperparametern für das Zielmerkmal rougher.output.recovery berechnen.\n",
        "features_train, features_valid, target_train, target_valid = train_test_split(\n",
        "    features_1, target_1, test_size=0.25, random_state=12345)\n",
        "\n",
        "model_1_1 = DecisionTreeRegressor(random_state=12345, max_depth=13)\n",
        "model_1_1.fit(features_train, target_train)\n",
        "predictions_valid = model_1_1.predict(features_valid)\n",
        "\n",
        "result_1_1 = smape(target_valid, predictions_valid)\n",
        "print('DecisionTreeRegressor', result_1_1)\n",
        "\n",
        "\n",
        "model_1_2 = RandomForestRegressor(random_state=12345, n_estimators=40, max_depth=11)\n",
        "model_1_2.fit(features_train, target_train)\n",
        "predictions_valid = model_1_2.predict(features_valid)\n",
        "\n",
        "result_1_2 = smape(target_valid, predictions_valid)\n",
        "print('RandomForestRegressor', result_1_2)\n",
        "\n",
        "\n",
        "model_1_3 = LinearRegression(copy_X=True, fit_intercept=False, n_jobs=None)\n",
        "model_1_3.fit(features_train, target_train)\n",
        "predictions_valid = model_1_3.predict(features_valid)\n",
        "\n",
        "result_1_3 = smape(target_valid, predictions_valid)\n",
        "print('LinearRegression',result_1_3)"
      ]
    },
    {
      "cell_type": "code",
      "execution_count": null,
      "id": "5e5eb6ca",
      "metadata": {
        "id": "5e5eb6ca"
      },
      "outputs": [],
      "source": [
        "# Wir werden die smape-Modelle mit den besten Hyperparametern für das Zielmerkmal final.output.recovery berechnen.\n",
        "features_train, features_valid, target_train, target_valid = train_test_split(\n",
        "    features_2, target_2, test_size=0.25, random_state=12345)\n",
        "\n",
        "model_2_1 = DecisionTreeRegressor(random_state=12345, max_depth=161)\n",
        "model_2_1.fit(features_train, target_train)\n",
        "predictions_valid = model_2_1.predict(features_valid)\n",
        "\n",
        "result_2_1 = smape(target_valid, predictions_valid)\n",
        "print('DecisionTreeRegressor', result_2_1)\n",
        "\n",
        "\n",
        "model_2_2 = RandomForestRegressor(random_state=12345, n_estimators=10, max_depth=9)\n",
        "model_2_2.fit(features_train, target_train)\n",
        "predictions_valid = model_2_2.predict(features_valid)\n",
        "\n",
        "result_2_2 = smape(target_valid, predictions_valid)\n",
        "print('RandomForestRegressor', result_2_2)\n",
        "\n",
        "\n",
        "model_2_3 = LinearRegression(copy_X=True, fit_intercept=True, n_jobs=None)\n",
        "model_2_3.fit(features_train, target_train)\n",
        "predictions_valid = model_2_3.predict(features_valid)\n",
        "\n",
        "result_2_3 = smape(target_valid, predictions_valid)\n",
        "print('LinearRegression', result_2_3)"
      ]
    },
    {
      "cell_type": "code",
      "execution_count": null,
      "id": "2142aa1a",
      "metadata": {
        "id": "2142aa1a"
      },
      "outputs": [],
      "source": [
        "# Wir werden den endgültigen smape für die Trainingsprobe berechnen.\n",
        "final_smape = 0.25 * result_1_1 + 0.75 * result_2_2\n",
        "print('Das endgültige smape für die Trainingsprobe:', final_smape)"
      ]
    },
    {
      "cell_type": "code",
      "execution_count": null,
      "id": "eb114eaf",
      "metadata": {
        "id": "eb114eaf"
      },
      "outputs": [],
      "source": [
        "# Wir werden die besten Modelle in einer Testprobe testen.\n",
        "\n",
        "# Wir werden Stichproben für den Zielparameter von rougher.output.recovery.\n",
        "features_1 = df_test.loc[:, 'rougher.input.feed_ag': 'rougher.state.floatbank10_f_level']\n",
        "target_1 = df_test['rougher.output.recovery']\n",
        "\n",
        "features_train, features_valid, target_train, target_valid = train_test_split(\n",
        "    features_1, target_1, test_size=0.25, random_state=12345)\n",
        "\n",
        "model = DecisionTreeRegressor(random_state=12345, max_depth=130)\n",
        "model.fit(features_train, target_train)\n",
        "predictions_valid = model.predict(features_valid)\n",
        "\n",
        "result_1 = smape(target_valid, predictions_valid)\n",
        "print('DecisionTreeRegressor', result_1)\n",
        "\n",
        "# Wir werden Stichproben für den Zielparameter von final.output.recovery.\n",
        "features_2 = df_test.drop(['date', 'rougher.output.recovery', 'final.output.recovery'], axis=1)\n",
        "target_2 = df_test['final.output.recovery']\n",
        "\n",
        "features_train, features_valid, target_train, target_valid = train_test_split(\n",
        "    features_2, target_2, test_size=0.25, random_state=12345)\n",
        "\n",
        "model = RandomForestRegressor(random_state=12345, n_estimators=10, max_depth=7)\n",
        "model.fit(features_train, target_train)\n",
        "predictions_valid = model.predict(features_valid)\n",
        "\n",
        "result_2 = smape(target_valid, predictions_valid)\n",
        "print('RandomForestRegressor', result_2)"
      ]
    },
    {
      "cell_type": "code",
      "execution_count": null,
      "id": "2efd690f",
      "metadata": {
        "id": "2efd690f"
      },
      "outputs": [],
      "source": [
        "# Wir werden das endgültige smape für die Testprobe berechnen.\n",
        "final_smape = 0.25 * result_1 + 0.75 * result_2\n",
        "print('Das endgültige Smape für die Testprobe:', final_smape)"
      ]
    },
    {
      "cell_type": "code",
      "execution_count": null,
      "id": "d7d649e7",
      "metadata": {
        "id": "d7d649e7"
      },
      "outputs": [],
      "source": [
        "# Wir werden Stichproben für den Zielparameter von rougher.output.recovery.\n",
        "predictions_1 = model_1_1.predict(features_1)\n",
        "result_1 = smape(target_1, predictions_1)\n",
        "print('DecisionTreeRegressor', result_1)\n",
        "\n",
        "predictions_2 = model_2_2.predict(features_2)\n",
        "result_2 = smape(target_2, predictions_2)\n",
        "print('DecisionTreeRegressor', result_2)"
      ]
    },
    {
      "cell_type": "code",
      "execution_count": null,
      "id": "c396780c",
      "metadata": {
        "id": "c396780c"
      },
      "outputs": [],
      "source": [
        "# Wir werden das endgültige smape für die Testprobe berechnen.\n",
        "final_smape = 0.25 * result_1 + 0.75 * result_2\n",
        "print('Das endgültige Smape für die Testprobe:', final_smape)"
      ]
    },
    {
      "cell_type": "markdown",
      "id": "771fb269",
      "metadata": {
        "id": "771fb269"
      },
      "source": [
        "**Schlussfolgerungen**\n",
        "\n",
        "Unter Verwendung des GridSearchCV-Pakets haben wir die optimalen Hyperparameter für drei Modelltypen ausgewählt und Modelle mit der kleinsten Smape-Metrik ausgewählt.\n",
        "\n",
        "Die ausgewählten Modelle wurden an einer Testprobe getestet, und der endgültige smape-Wert wurde für die Zwischen- und Endparameter der Golderzaufbereitung berechnet."
      ]
    }
  ],
  "metadata": {
    "kernelspec": {
      "display_name": "Python 3 (ipykernel)",
      "language": "python",
      "name": "python3"
    },
    "language_info": {
      "codemirror_mode": {
        "name": "ipython",
        "version": 3
      },
      "file_extension": ".py",
      "mimetype": "text/x-python",
      "name": "python",
      "nbconvert_exporter": "python",
      "pygments_lexer": "ipython3",
      "version": "3.7.8"
    },
    "colab": {
      "provenance": [],
      "toc_visible": true,
      "include_colab_link": true
    }
  },
  "nbformat": 4,
  "nbformat_minor": 5
}